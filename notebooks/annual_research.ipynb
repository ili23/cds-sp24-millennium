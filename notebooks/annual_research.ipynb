{
 "cells": [
  {
   "cell_type": "code",
   "execution_count": 1,
   "metadata": {},
   "outputs": [],
   "source": [
    "import numpy as np\n",
    "import pandas as pd"
   ]
  },
  {
   "cell_type": "code",
   "execution_count": 2,
   "metadata": {},
   "outputs": [
    {
     "data": {
      "text/html": [
       "<div>\n",
       "<style scoped>\n",
       "    .dataframe tbody tr th:only-of-type {\n",
       "        vertical-align: middle;\n",
       "    }\n",
       "\n",
       "    .dataframe tbody tr th {\n",
       "        vertical-align: top;\n",
       "    }\n",
       "\n",
       "    .dataframe thead th {\n",
       "        text-align: right;\n",
       "    }\n",
       "</style>\n",
       "<table border=\"1\" class=\"dataframe\">\n",
       "  <thead>\n",
       "    <tr style=\"text-align: right;\">\n",
       "      <th></th>\n",
       "      <th></th>\n",
       "      <th>Variable Descriptions</th>\n",
       "    </tr>\n",
       "  </thead>\n",
       "  <tbody>\n",
       "    <tr>\n",
       "      <th>PRCH_C</th>\n",
       "      <th>Float</th>\n",
       "      <td>Price High - Annual - Calendar (prch_c)</td>\n",
       "    </tr>\n",
       "    <tr>\n",
       "      <th>PRCH_F</th>\n",
       "      <th>Float</th>\n",
       "      <td>Price High - Annual - Fiscal (prch_f)</td>\n",
       "    </tr>\n",
       "    <tr>\n",
       "      <th>PRCL_C</th>\n",
       "      <th>Float</th>\n",
       "      <td>Price Low - Annual - Calendar (prcl_c)</td>\n",
       "    </tr>\n",
       "    <tr>\n",
       "      <th>PRCL_F</th>\n",
       "      <th>Float</th>\n",
       "      <td>Price Low - Annual - Fiscal (prcl_f)</td>\n",
       "    </tr>\n",
       "    <tr>\n",
       "      <th>SICH</th>\n",
       "      <th>Float</th>\n",
       "      <td>Standard Industrial Classification - Historica...</td>\n",
       "    </tr>\n",
       "  </tbody>\n",
       "</table>\n",
       "</div>"
      ],
      "text/plain": [
       "                                          Variable Descriptions\n",
       "PRCH_C Float            Price High - Annual - Calendar (prch_c)\n",
       "PRCH_F Float              Price High - Annual - Fiscal (prch_f)\n",
       "PRCL_C Float             Price Low - Annual - Calendar (prcl_c)\n",
       "PRCL_F Float               Price Low - Annual - Fiscal (prcl_f)\n",
       "SICH   Float  Standard Industrial Classification - Historica..."
      ]
     },
     "execution_count": 2,
     "metadata": {},
     "output_type": "execute_result"
    }
   ],
   "source": [
    "var_description = pd.read_csv('../data/annual_var_names.csv')\n",
    "var_description.tail()"
   ]
  },
  {
   "cell_type": "code",
   "execution_count": null,
   "metadata": {},
   "outputs": [],
   "source": []
  }
 ],
 "metadata": {
  "kernelspec": {
   "display_name": "Python 3 (ipykernel)",
   "language": "python",
   "name": "python3"
  },
  "language_info": {
   "codemirror_mode": {
    "name": "ipython",
    "version": 3
   },
   "file_extension": ".py",
   "mimetype": "text/x-python",
   "name": "python",
   "nbconvert_exporter": "python",
   "pygments_lexer": "ipython3",
   "version": "3.11.7"
  }
 },
 "nbformat": 4,
 "nbformat_minor": 4
}
