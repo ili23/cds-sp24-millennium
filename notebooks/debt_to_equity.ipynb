{
 "cells": [
  {
   "cell_type": "code",
   "execution_count": 1,
   "metadata": {},
   "outputs": [],
   "source": [
    "import numpy as np\n",
    "import pandas as pd\n",
    "import scipy\n",
    "import seaborn as sns\n",
    "import matplotlib.pyplot as plt\n",
    "import psycopg2\n",
    "import get_data"
   ]
  },
  {
   "cell_type": "code",
   "execution_count": 32,
   "metadata": {},
   "outputs": [
    {
     "data": {
      "text/html": [
       "<div>\n",
       "<style scoped>\n",
       "    .dataframe tbody tr th:only-of-type {\n",
       "        vertical-align: middle;\n",
       "    }\n",
       "\n",
       "    .dataframe tbody tr th {\n",
       "        vertical-align: top;\n",
       "    }\n",
       "\n",
       "    .dataframe thead th {\n",
       "        text-align: right;\n",
       "    }\n",
       "</style>\n",
       "<table border=\"1\" class=\"dataframe\">\n",
       "  <thead>\n",
       "    <tr style=\"text-align: right;\">\n",
       "      <th></th>\n",
       "      <th>datadate</th>\n",
       "      <th>gvkey</th>\n",
       "      <th>tic</th>\n",
       "      <th>cusip</th>\n",
       "      <th>dlttq</th>\n",
       "      <th>lseq</th>\n",
       "      <th>seqq</th>\n",
       "      <th>ltq</th>\n",
       "    </tr>\n",
       "  </thead>\n",
       "  <tbody>\n",
       "    <tr>\n",
       "      <th>0</th>\n",
       "      <td>2013-06-30</td>\n",
       "      <td>028967</td>\n",
       "      <td>QCRH</td>\n",
       "      <td>74727A104</td>\n",
       "      <td>392.804</td>\n",
       "      <td>2446.771</td>\n",
       "      <td>145.446</td>\n",
       "      <td>2301.325</td>\n",
       "    </tr>\n",
       "    <tr>\n",
       "      <th>1</th>\n",
       "      <td>2013-09-30</td>\n",
       "      <td>028967</td>\n",
       "      <td>QCRH</td>\n",
       "      <td>74727A104</td>\n",
       "      <td>388.253</td>\n",
       "      <td>2485.714</td>\n",
       "      <td>147.953</td>\n",
       "      <td>2337.761</td>\n",
       "    </tr>\n",
       "    <tr>\n",
       "      <th>2</th>\n",
       "      <td>2013-12-31</td>\n",
       "      <td>028967</td>\n",
       "      <td>QCRH</td>\n",
       "      <td>74727A104</td>\n",
       "      <td>338.238</td>\n",
       "      <td>2394.953</td>\n",
       "      <td>147.577</td>\n",
       "      <td>2247.376</td>\n",
       "    </tr>\n",
       "    <tr>\n",
       "      <th>3</th>\n",
       "      <td>2014-03-31</td>\n",
       "      <td>028967</td>\n",
       "      <td>QCRH</td>\n",
       "      <td>74727A104</td>\n",
       "      <td>418.274</td>\n",
       "      <td>2426.319</td>\n",
       "      <td>141.357</td>\n",
       "      <td>2284.962</td>\n",
       "    </tr>\n",
       "    <tr>\n",
       "      <th>4</th>\n",
       "      <td>2014-06-30</td>\n",
       "      <td>028967</td>\n",
       "      <td>QCRH</td>\n",
       "      <td>74727A104</td>\n",
       "      <td>414.709</td>\n",
       "      <td>2464.839</td>\n",
       "      <td>134.643</td>\n",
       "      <td>2330.196</td>\n",
       "    </tr>\n",
       "  </tbody>\n",
       "</table>\n",
       "</div>"
      ],
      "text/plain": [
       "     datadate   gvkey   tic      cusip    dlttq      lseq     seqq       ltq\n",
       "0  2013-06-30  028967  QCRH  74727A104  392.804  2446.771  145.446  2301.325\n",
       "1  2013-09-30  028967  QCRH  74727A104  388.253  2485.714  147.953  2337.761\n",
       "2  2013-12-31  028967  QCRH  74727A104  338.238  2394.953  147.577  2247.376\n",
       "3  2014-03-31  028967  QCRH  74727A104  418.274  2426.319  141.357  2284.962\n",
       "4  2014-06-30  028967  QCRH  74727A104  414.709  2464.839  134.643  2330.196"
      ]
     },
     "execution_count": 32,
     "metadata": {},
     "output_type": "execute_result"
    }
   ],
   "source": [
    "df = pd.read_sql_query('SELECT datadate,gvkey,tic,cusip,dlttq,lseq,seqq,ltq FROM quarterly',get_data.engine)\n",
    "#dlttq: total long term debt, \n",
    "#lseq: \n",
    "#ltq: Liabilities (Total)\n",
    "df.head()\n",
    "# Debt to equity ratio = dlttq / seqq"
   ]
  },
  {
   "cell_type": "code",
   "execution_count": 33,
   "metadata": {},
   "outputs": [
    {
     "data": {
      "text/html": [
       "<div>\n",
       "<style scoped>\n",
       "    .dataframe tbody tr th:only-of-type {\n",
       "        vertical-align: middle;\n",
       "    }\n",
       "\n",
       "    .dataframe tbody tr th {\n",
       "        vertical-align: top;\n",
       "    }\n",
       "\n",
       "    .dataframe thead th {\n",
       "        text-align: right;\n",
       "    }\n",
       "</style>\n",
       "<table border=\"1\" class=\"dataframe\">\n",
       "  <thead>\n",
       "    <tr style=\"text-align: right;\">\n",
       "      <th></th>\n",
       "      <th>datadate</th>\n",
       "      <th>gvkey</th>\n",
       "      <th>tic</th>\n",
       "      <th>cusip</th>\n",
       "      <th>dlttq</th>\n",
       "      <th>lseq</th>\n",
       "      <th>seqq</th>\n",
       "      <th>ltq</th>\n",
       "      <th>debt_to_equity</th>\n",
       "    </tr>\n",
       "  </thead>\n",
       "  <tbody>\n",
       "    <tr>\n",
       "      <th>0</th>\n",
       "      <td>2013-06-30</td>\n",
       "      <td>028967</td>\n",
       "      <td>QCRH</td>\n",
       "      <td>74727A104</td>\n",
       "      <td>392.804</td>\n",
       "      <td>2446.771</td>\n",
       "      <td>145.446</td>\n",
       "      <td>2301.325</td>\n",
       "      <td>2.700686</td>\n",
       "    </tr>\n",
       "    <tr>\n",
       "      <th>1</th>\n",
       "      <td>2013-09-30</td>\n",
       "      <td>028967</td>\n",
       "      <td>QCRH</td>\n",
       "      <td>74727A104</td>\n",
       "      <td>388.253</td>\n",
       "      <td>2485.714</td>\n",
       "      <td>147.953</td>\n",
       "      <td>2337.761</td>\n",
       "      <td>2.624164</td>\n",
       "    </tr>\n",
       "    <tr>\n",
       "      <th>2</th>\n",
       "      <td>2013-12-31</td>\n",
       "      <td>028967</td>\n",
       "      <td>QCRH</td>\n",
       "      <td>74727A104</td>\n",
       "      <td>338.238</td>\n",
       "      <td>2394.953</td>\n",
       "      <td>147.577</td>\n",
       "      <td>2247.376</td>\n",
       "      <td>2.291943</td>\n",
       "    </tr>\n",
       "    <tr>\n",
       "      <th>3</th>\n",
       "      <td>2014-03-31</td>\n",
       "      <td>028967</td>\n",
       "      <td>QCRH</td>\n",
       "      <td>74727A104</td>\n",
       "      <td>418.274</td>\n",
       "      <td>2426.319</td>\n",
       "      <td>141.357</td>\n",
       "      <td>2284.962</td>\n",
       "      <td>2.958990</td>\n",
       "    </tr>\n",
       "    <tr>\n",
       "      <th>4</th>\n",
       "      <td>2014-06-30</td>\n",
       "      <td>028967</td>\n",
       "      <td>QCRH</td>\n",
       "      <td>74727A104</td>\n",
       "      <td>414.709</td>\n",
       "      <td>2464.839</td>\n",
       "      <td>134.643</td>\n",
       "      <td>2330.196</td>\n",
       "      <td>3.080064</td>\n",
       "    </tr>\n",
       "  </tbody>\n",
       "</table>\n",
       "</div>"
      ],
      "text/plain": [
       "     datadate   gvkey   tic      cusip    dlttq      lseq     seqq       ltq  \\\n",
       "0  2013-06-30  028967  QCRH  74727A104  392.804  2446.771  145.446  2301.325   \n",
       "1  2013-09-30  028967  QCRH  74727A104  388.253  2485.714  147.953  2337.761   \n",
       "2  2013-12-31  028967  QCRH  74727A104  338.238  2394.953  147.577  2247.376   \n",
       "3  2014-03-31  028967  QCRH  74727A104  418.274  2426.319  141.357  2284.962   \n",
       "4  2014-06-30  028967  QCRH  74727A104  414.709  2464.839  134.643  2330.196   \n",
       "\n",
       "   debt_to_equity  \n",
       "0        2.700686  \n",
       "1        2.624164  \n",
       "2        2.291943  \n",
       "3        2.958990  \n",
       "4        3.080064  "
      ]
     },
     "execution_count": 33,
     "metadata": {},
     "output_type": "execute_result"
    }
   ],
   "source": [
    "df['debt_to_equity'] = df['dlttq'] / df['seqq']\n",
    "df.head()"
   ]
  },
  {
   "cell_type": "code",
   "execution_count": 34,
   "metadata": {},
   "outputs": [
    {
     "name": "stdout",
     "output_type": "stream",
     "text": [
      "inf -12316.5\n"
     ]
    },
    {
     "data": {
      "text/plain": [
       "<AxesSubplot:ylabel='Frequency'>"
      ]
     },
     "execution_count": 34,
     "metadata": {},
     "output_type": "execute_result"
    },
    {
     "data": {
      "image/png": "[encoded data removed]",
      "text/plain": [
       "<Figure size 432x288 with 1 Axes>"
      ]
     },
     "metadata": {
      "needs_background": "light"
     },
     "output_type": "display_data"
    }
   ],
   "source": [
    "print(max(df['debt_to_equity']), min(df['debt_to_equity']))\n",
    "df['ltq'].plot(kind='hist')"
   ]
  },
  {
   "cell_type": "code",
   "execution_count": 35,
   "metadata": {},
   "outputs": [
    {
     "name": "stdout",
     "output_type": "stream",
     "text": [
      "4615.695451040863 1.3351776587392717e-06\n"
     ]
    },
    {
     "data": {
      "text/plain": [
       "<AxesSubplot:ylabel='Frequency'>"
      ]
     },
     "execution_count": 35,
     "metadata": {},
     "output_type": "execute_result"
    },
    {
     "data": {
      "image/png": "[encoded data removed]",
      "text/plain": [
       "<Figure size 432x288 with 1 Axes>"
      ]
     },
     "metadata": {
      "needs_background": "light"
     },
     "output_type": "display_data"
    }
   ],
   "source": [
    "# Filter out rows with negative values in dlttq, seqq, or 0\n",
    "filtered_df = df[(df['dlttq'] > 0) & (df['seqq'] > 0)]\n",
    "filtered_df.head()\n",
    "print(max(filtered_df['debt_to_equity']), min(filtered_df['debt_to_equity']))\n",
    "filtered_df['debt_to_equity'].plot(kind='hist')"
   ]
  },
  {
   "cell_type": "code",
   "execution_count": 38,
   "metadata": {},
   "outputs": [
    {
     "name": "stdout",
     "output_type": "stream",
     "text": [
      "968.3087761674718 1.3351776587392717e-06\n"
     ]
    },
    {
     "data": {
      "text/html": [
       "<div>\n",
       "<style scoped>\n",
       "    .dataframe tbody tr th:only-of-type {\n",
       "        vertical-align: middle;\n",
       "    }\n",
       "\n",
       "    .dataframe tbody tr th {\n",
       "        vertical-align: top;\n",
       "    }\n",
       "\n",
       "    .dataframe thead th {\n",
       "        text-align: right;\n",
       "    }\n",
       "</style>\n",
       "<table border=\"1\" class=\"dataframe\">\n",
       "  <thead>\n",
       "    <tr style=\"text-align: right;\">\n",
       "      <th></th>\n",
       "      <th>datadate</th>\n",
       "      <th>gvkey</th>\n",
       "      <th>tic</th>\n",
       "      <th>cusip</th>\n",
       "      <th>dlttq</th>\n",
       "      <th>lseq</th>\n",
       "      <th>seqq</th>\n",
       "      <th>ltq</th>\n",
       "      <th>debt_to_equity</th>\n",
       "    </tr>\n",
       "  </thead>\n",
       "  <tbody>\n",
       "    <tr>\n",
       "      <th>194942</th>\n",
       "      <td>2012-06-30</td>\n",
       "      <td>028967</td>\n",
       "      <td>QCRH</td>\n",
       "      <td>74727A104</td>\n",
       "      <td>378.071</td>\n",
       "      <td>2043.426</td>\n",
       "      <td>136.907</td>\n",
       "      <td>1904.104</td>\n",
       "      <td>2.761517</td>\n",
       "    </tr>\n",
       "    <tr>\n",
       "      <th>194943</th>\n",
       "      <td>2012-09-30</td>\n",
       "      <td>028967</td>\n",
       "      <td>QCRH</td>\n",
       "      <td>74727A104</td>\n",
       "      <td>370.673</td>\n",
       "      <td>2023.946</td>\n",
       "      <td>138.975</td>\n",
       "      <td>1884.825</td>\n",
       "      <td>2.667192</td>\n",
       "    </tr>\n",
       "    <tr>\n",
       "      <th>194944</th>\n",
       "      <td>2012-12-31</td>\n",
       "      <td>028967</td>\n",
       "      <td>QCRH</td>\n",
       "      <td>74727A104</td>\n",
       "      <td>347.075</td>\n",
       "      <td>2093.730</td>\n",
       "      <td>140.434</td>\n",
       "      <td>1953.296</td>\n",
       "      <td>2.471446</td>\n",
       "    </tr>\n",
       "    <tr>\n",
       "      <th>194945</th>\n",
       "      <td>2013-03-31</td>\n",
       "      <td>028967</td>\n",
       "      <td>QCRH</td>\n",
       "      <td>74727A104</td>\n",
       "      <td>379.677</td>\n",
       "      <td>2143.991</td>\n",
       "      <td>142.198</td>\n",
       "      <td>2001.793</td>\n",
       "      <td>2.670059</td>\n",
       "    </tr>\n",
       "    <tr>\n",
       "      <th>194946</th>\n",
       "      <td>2001-12-31</td>\n",
       "      <td>029359</td>\n",
       "      <td>SUI</td>\n",
       "      <td>866674104</td>\n",
       "      <td>477.598</td>\n",
       "      <td>994.449</td>\n",
       "      <td>329.641</td>\n",
       "      <td>521.810</td>\n",
       "      <td>1.448843</td>\n",
       "    </tr>\n",
       "  </tbody>\n",
       "</table>\n",
       "</div>"
      ],
      "text/plain": [
       "          datadate   gvkey   tic      cusip    dlttq      lseq     seqq  \\\n",
       "194942  2012-06-30  028967  QCRH  74727A104  378.071  2043.426  136.907   \n",
       "194943  2012-09-30  028967  QCRH  74727A104  370.673  2023.946  138.975   \n",
       "194944  2012-12-31  028967  QCRH  74727A104  347.075  2093.730  140.434   \n",
       "194945  2013-03-31  028967  QCRH  74727A104  379.677  2143.991  142.198   \n",
       "194946  2001-12-31  029359   SUI  866674104  477.598   994.449  329.641   \n",
       "\n",
       "             ltq  debt_to_equity  \n",
       "194942  1904.104        2.761517  \n",
       "194943  1884.825        2.667192  \n",
       "194944  1953.296        2.471446  \n",
       "194945  2001.793        2.670059  \n",
       "194946   521.810        1.448843  "
      ]
     },
     "execution_count": 38,
     "metadata": {},
     "output_type": "execute_result"
    },
    {
     "data": {
      "image/png": "[encoded data removed]",
      "text/plain": [
       "<Figure size 432x288 with 1 Axes>"
      ]
     },
     "metadata": {
      "needs_background": "light"
     },
     "output_type": "display_data"
    }
   ],
   "source": [
    "# truncating the ratio to only include rows under 100 (realistically we probably want an even lower ratio)\n",
    "filtered_df = filtered_df[(filtered_df['debt_to_equity'] < 1000)]\n",
    "print(max(filtered_df['debt_to_equity']), min(filtered_df['debt_to_equity']))\n",
    "filtered_df['debt_to_equity'].plot(kind='hist')\n",
    "filtered_df.tail()"
   ]
  },
  {
   "cell_type": "code",
   "execution_count": 42,
   "metadata": {},
   "outputs": [
    {
     "name": "stdout",
     "output_type": "stream",
     "text": [
      "          datadate   gvkey   tic      cusip     dlttq      lseq      seqq  \\\n",
      "43      2000-03-31  029099   REG  758849103  1038.702  2657.794  1232.926   \n",
      "44      2000-06-30  029099   REG  758849103  1078.634  2761.975  1230.415   \n",
      "45      2000-09-30  029099   REG  758849103  1199.733  2893.064  1227.951   \n",
      "46      2000-12-31  029099   REG  758849103  1233.983  3035.144  1225.415   \n",
      "47      2001-03-31  029099   REG  758849103  1272.606  2981.538  1222.423   \n",
      "...            ...     ...   ...        ...       ...       ...       ...   \n",
      "194940  2011-12-31  028967  QCRH  74727A104   358.067  1966.610   142.381   \n",
      "194941  2012-03-31  028967  QCRH  74727A104   376.070  1992.998   143.551   \n",
      "194942  2012-06-30  028967  QCRH  74727A104   378.071  2043.426   136.907   \n",
      "194943  2012-09-30  028967  QCRH  74727A104   370.673  2023.946   138.975   \n",
      "194946  2001-12-31  029359   SUI  866674104   477.598   994.449   329.641   \n",
      "\n",
      "             ltq  debt_to_equity  \n",
      "43      1087.204        0.842469  \n",
      "44      1132.935        0.876642  \n",
      "45      1248.035        0.977020  \n",
      "46      1390.796        1.006992  \n",
      "47      1346.557        1.041052  \n",
      "...          ...             ...  \n",
      "194940  1822.177        2.514851  \n",
      "194941  1847.231        2.619766  \n",
      "194942  1904.104        2.761517  \n",
      "194943  1884.825        2.667192  \n",
      "194946   521.810        1.448843  \n",
      "\n",
      "[56564 rows x 9 columns]\n"
     ]
    }
   ],
   "source": [
    "# Round the values to the first 2 decimal points before comparison\n",
    "unequal_rows = filtered_df[((filtered_df['lseq'] - filtered_df['ltq']).round(2)) != filtered_df['seqq'].round(2)]\n",
    "\n",
    "# Display the rows where the condition is not met\n",
    "print(unequal_rows)"
   ]
  },
  {
   "cell_type": "code",
   "execution_count": null,
   "metadata": {},
   "outputs": [],
   "source": []
  },
  {
   "cell_type": "code",
   "execution_count": null,
   "metadata": {},
   "outputs": [],
   "source": []
  },
  {
   "cell_type": "code",
   "execution_count": null,
   "metadata": {},
   "outputs": [],
   "source": []
  },
  {
   "cell_type": "code",
   "execution_count": null,
   "metadata": {},
   "outputs": [],
   "source": []
  }
 ],
 "metadata": {
  "kernelspec": {
   "display_name": "Python 3",
   "language": "python",
   "name": "python3"
  },
  "language_info": {
   "codemirror_mode": {
    "name": "ipython",
    "version": 3
   },
   "file_extension": ".py",
   "mimetype": "text/x-python",
   "name": "python",
   "nbconvert_exporter": "python",
   "pygments_lexer": "ipython3",
   "version": "3.8.8"
  }
 },
 "nbformat": 4,
 "nbformat_minor": 2
}
