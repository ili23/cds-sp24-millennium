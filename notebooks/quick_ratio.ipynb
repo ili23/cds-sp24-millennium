{
 "cells": [
  {
   "cell_type": "code",
   "execution_count": 1,
   "id": "b5c73b33",
   "metadata": {},
   "outputs": [],
   "source": [
    "import numpy as np\n",
    "import pandas as pd\n",
    "import scipy\n",
    "import seaborn as sns\n",
    "import matplotlib.pyplot as plt\n",
    "import psycopg2\n",
    "import sqlalchemy\n",
    "import get_data"
   ]
  },
  {
   "cell_type": "code",
   "execution_count": 2,
   "id": "8884a7c2",
   "metadata": {},
   "outputs": [
    {
     "data": {
      "text/html": [
       "<div>\n",
       "<style scoped>\n",
       "    .dataframe tbody tr th:only-of-type {\n",
       "        vertical-align: middle;\n",
       "    }\n",
       "\n",
       "    .dataframe tbody tr th {\n",
       "        vertical-align: top;\n",
       "    }\n",
       "\n",
       "    .dataframe thead th {\n",
       "        text-align: right;\n",
       "    }\n",
       "</style>\n",
       "<table border=\"1\" class=\"dataframe\">\n",
       "  <thead>\n",
       "    <tr style=\"text-align: right;\">\n",
       "      <th></th>\n",
       "      <th>datadate</th>\n",
       "      <th>gvkey</th>\n",
       "      <th>cusip</th>\n",
       "      <th>invtq</th>\n",
       "      <th>lctq</th>\n",
       "      <th>actq</th>\n",
       "    </tr>\n",
       "  </thead>\n",
       "  <tbody>\n",
       "    <tr>\n",
       "      <th>0</th>\n",
       "      <td>2013-06-30</td>\n",
       "      <td>028967</td>\n",
       "      <td>74727A104</td>\n",
       "      <td>5.942</td>\n",
       "      <td>NaN</td>\n",
       "      <td>NaN</td>\n",
       "    </tr>\n",
       "    <tr>\n",
       "      <th>1</th>\n",
       "      <td>2013-09-30</td>\n",
       "      <td>028967</td>\n",
       "      <td>74727A104</td>\n",
       "      <td>9.942</td>\n",
       "      <td>NaN</td>\n",
       "      <td>NaN</td>\n",
       "    </tr>\n",
       "    <tr>\n",
       "      <th>2</th>\n",
       "      <td>2013-12-31</td>\n",
       "      <td>028967</td>\n",
       "      <td>74727A104</td>\n",
       "      <td>11.087</td>\n",
       "      <td>NaN</td>\n",
       "      <td>NaN</td>\n",
       "    </tr>\n",
       "    <tr>\n",
       "      <th>3</th>\n",
       "      <td>2014-03-31</td>\n",
       "      <td>028967</td>\n",
       "      <td>74727A104</td>\n",
       "      <td>9.967</td>\n",
       "      <td>NaN</td>\n",
       "      <td>NaN</td>\n",
       "    </tr>\n",
       "    <tr>\n",
       "      <th>4</th>\n",
       "      <td>2014-06-30</td>\n",
       "      <td>028967</td>\n",
       "      <td>74727A104</td>\n",
       "      <td>12.253</td>\n",
       "      <td>NaN</td>\n",
       "      <td>NaN</td>\n",
       "    </tr>\n",
       "  </tbody>\n",
       "</table>\n",
       "</div>"
      ],
      "text/plain": [
       "     datadate   gvkey      cusip   invtq  lctq  actq\n",
       "0  2013-06-30  028967  74727A104   5.942   NaN   NaN\n",
       "1  2013-09-30  028967  74727A104   9.942   NaN   NaN\n",
       "2  2013-12-31  028967  74727A104  11.087   NaN   NaN\n",
       "3  2014-03-31  028967  74727A104   9.967   NaN   NaN\n",
       "4  2014-06-30  028967  74727A104  12.253   NaN   NaN"
      ]
     },
     "execution_count": 2,
     "metadata": {},
     "output_type": "execute_result"
    }
   ],
   "source": [
    "df = pd.read_sql_query('SELECT datadate,gvkey,cusip,INVTQ,LCTQ,ACTQ FROM quarterly',get_data.engine)\n",
    "df.head()\n",
    "# quick ratio = (current assets - inventory)/current liabilities \n",
    "# INVTQ - inventory total \n",
    "# LCTQ - current liabilites total \n",
    "# ACTQ - current assets total "
   ]
  },
  {
   "cell_type": "code",
   "execution_count": 3,
   "id": "1d05cec7",
   "metadata": {},
   "outputs": [],
   "source": [
    "df = df.dropna(axis = 0)"
   ]
  },
  {
   "cell_type": "code",
   "execution_count": 4,
   "id": "2a7f413f",
   "metadata": {},
   "outputs": [],
   "source": [
    "#remove rows with current assets or current liabilites less than or equal to 0\n",
    "#remove rows with inventory less than 0 (maybe it is possible to have 0 inventory?)\n",
    "df = df[(df['actq'] > 0) & (df['lctq'] > 0) & (df['invtq'] >= 0)]"
   ]
  },
  {
   "cell_type": "code",
   "execution_count": 5,
   "id": "5356bd18",
   "metadata": {},
   "outputs": [],
   "source": [
    "df['quick_ratio'] = (df['actq']-df['invtq'])/df['lctq']"
   ]
  },
  {
   "cell_type": "code",
   "execution_count": 6,
   "id": "e0776c7b",
   "metadata": {},
   "outputs": [
    {
     "name": "stdout",
     "output_type": "stream",
     "text": [
      "953.9999999999999 -0.03661395907189612\n"
     ]
    }
   ],
   "source": [
    "print(max(df['quick_ratio']), min(df['quick_ratio']))"
   ]
  },
  {
   "cell_type": "code",
   "execution_count": 7,
   "id": "740f3716",
   "metadata": {},
   "outputs": [
    {
     "data": {
      "image/png": "[encoded data removed]",
      "text/plain": [
       "<Figure size 432x288 with 1 Axes>"
      ]
     },
     "metadata": {
      "needs_background": "light"
     },
     "output_type": "display_data"
    }
   ],
   "source": [
    "plt.hist(df['quick_ratio']);"
   ]
  },
  {
   "cell_type": "code",
   "execution_count": 8,
   "id": "a79d8d1c",
   "metadata": {},
   "outputs": [],
   "source": [
    "# see if removing rows where inventory = 0 makes more sense since some of these ratios are very large\n",
    "df2 = df[df['invtq'] > 0]"
   ]
  },
  {
   "cell_type": "code",
   "execution_count": 9,
   "id": "c53a1784",
   "metadata": {},
   "outputs": [
    {
     "name": "stdout",
     "output_type": "stream",
     "text": [
      "82.61208117036337 -0.03661395907189612\n"
     ]
    }
   ],
   "source": [
    "print(max(df2['quick_ratio']), min(df2['quick_ratio']))"
   ]
  },
  {
   "cell_type": "code",
   "execution_count": 10,
   "id": "83a5ffa3",
   "metadata": {},
   "outputs": [
    {
     "data": {
      "image/png": "[encoded data removed]",
      "text/plain": [
       "<Figure size 432x288 with 1 Axes>"
      ]
     },
     "metadata": {
      "needs_background": "light"
     },
     "output_type": "display_data"
    }
   ],
   "source": [
    "plt.hist(df2['quick_ratio']);"
   ]
  }
 ],
 "metadata": {
  "kernelspec": {
   "display_name": "Python 3",
   "language": "python",
   "name": "python3"
  },
  "language_info": {
   "codemirror_mode": {
    "name": "ipython",
    "version": 3
   },
   "file_extension": ".py",
   "mimetype": "text/x-python",
   "name": "python",
   "nbconvert_exporter": "python",
   "pygments_lexer": "ipython3",
   "version": "3.8.8"
  }
 },
 "nbformat": 4,
 "nbformat_minor": 5
}
