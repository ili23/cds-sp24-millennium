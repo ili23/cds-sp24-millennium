{
 "cells": [
  {
   "cell_type": "code",
   "execution_count": 2,
   "metadata": {},
   "outputs": [],
   "source": [
    "import numpy as np\n",
    "import pandas as pd\n",
    "import scipy\n",
    "import seaborn as sns\n",
    "import matplotlib.pyplot as plt\n",
    "import psycopg2\n",
    "import get_data"
   ]
  },
  {
   "cell_type": "code",
   "execution_count": 3,
   "metadata": {},
   "outputs": [],
   "source": [
    "engine = get_data.engine"
   ]
  },
  {
   "cell_type": "code",
   "execution_count": 12,
   "metadata": {},
   "outputs": [
    {
     "data": {
      "text/html": [
       "<div>\n",
       "<style scoped>\n",
       "    .dataframe tbody tr th:only-of-type {\n",
       "        vertical-align: middle;\n",
       "    }\n",
       "\n",
       "    .dataframe tbody tr th {\n",
       "        vertical-align: top;\n",
       "    }\n",
       "\n",
       "    .dataframe thead th {\n",
       "        text-align: right;\n",
       "    }\n",
       "</style>\n",
       "<table border=\"1\" class=\"dataframe\">\n",
       "  <thead>\n",
       "    <tr style=\"text-align: right;\">\n",
       "      <th></th>\n",
       "      <th>datadate</th>\n",
       "      <th>gvkey</th>\n",
       "      <th>cusip</th>\n",
       "      <th>saleq</th>\n",
       "      <th>rectq</th>\n",
       "    </tr>\n",
       "  </thead>\n",
       "  <tbody>\n",
       "    <tr>\n",
       "      <th>194942</th>\n",
       "      <td>2012-06-30</td>\n",
       "      <td>028967</td>\n",
       "      <td>74727A104</td>\n",
       "      <td>23.540</td>\n",
       "      <td>1190.229</td>\n",
       "    </tr>\n",
       "    <tr>\n",
       "      <th>194943</th>\n",
       "      <td>2012-09-30</td>\n",
       "      <td>028967</td>\n",
       "      <td>74727A104</td>\n",
       "      <td>23.025</td>\n",
       "      <td>1218.590</td>\n",
       "    </tr>\n",
       "    <tr>\n",
       "      <th>194944</th>\n",
       "      <td>2012-12-31</td>\n",
       "      <td>028967</td>\n",
       "      <td>74727A104</td>\n",
       "      <td>23.460</td>\n",
       "      <td>1262.886</td>\n",
       "    </tr>\n",
       "    <tr>\n",
       "      <th>194945</th>\n",
       "      <td>2013-03-31</td>\n",
       "      <td>028967</td>\n",
       "      <td>74727A104</td>\n",
       "      <td>22.891</td>\n",
       "      <td>1268.765</td>\n",
       "    </tr>\n",
       "    <tr>\n",
       "      <th>194946</th>\n",
       "      <td>2001-12-31</td>\n",
       "      <td>029359</td>\n",
       "      <td>866674104</td>\n",
       "      <td>37.791</td>\n",
       "      <td>105.393</td>\n",
       "    </tr>\n",
       "  </tbody>\n",
       "</table>\n",
       "</div>"
      ],
      "text/plain": [
       "          datadate   gvkey      cusip   saleq     rectq\n",
       "194942  2012-06-30  028967  74727A104  23.540  1190.229\n",
       "194943  2012-09-30  028967  74727A104  23.025  1218.590\n",
       "194944  2012-12-31  028967  74727A104  23.460  1262.886\n",
       "194945  2013-03-31  028967  74727A104  22.891  1268.765\n",
       "194946  2001-12-31  029359  866674104  37.791   105.393"
      ]
     },
     "execution_count": 12,
     "metadata": {},
     "output_type": "execute_result"
    }
   ],
   "source": [
    "df = pd.read_sql_query('SELECT datadate,gvkey,cusip,SALEQ,RECTQ FROM quarterly',engine)\n",
    "df.tail()"
   ]
  },
  {
   "cell_type": "code",
   "execution_count": 14,
   "metadata": {},
   "outputs": [],
   "source": [
    "df = df[(df['saleq'] > 0)]\n",
    "df = df[(df['rectq'] > 0)]"
   ]
  },
  {
   "cell_type": "code",
   "execution_count": 15,
   "metadata": {},
   "outputs": [],
   "source": [
    "df = df.dropna()"
   ]
  },
  {
   "cell_type": "code",
   "execution_count": 16,
   "metadata": {},
   "outputs": [],
   "source": [
    "df[\"ar_turnover_ratio\"] = df[\"saleq\"] / df[\"rectq\"]"
   ]
  },
  {
   "cell_type": "code",
   "execution_count": 17,
   "metadata": {},
   "outputs": [
    {
     "data": {
      "text/html": [
       "<div>\n",
       "<style scoped>\n",
       "    .dataframe tbody tr th:only-of-type {\n",
       "        vertical-align: middle;\n",
       "    }\n",
       "\n",
       "    .dataframe tbody tr th {\n",
       "        vertical-align: top;\n",
       "    }\n",
       "\n",
       "    .dataframe thead th {\n",
       "        text-align: right;\n",
       "    }\n",
       "</style>\n",
       "<table border=\"1\" class=\"dataframe\">\n",
       "  <thead>\n",
       "    <tr style=\"text-align: right;\">\n",
       "      <th></th>\n",
       "      <th>datadate</th>\n",
       "      <th>gvkey</th>\n",
       "      <th>cusip</th>\n",
       "      <th>saleq</th>\n",
       "      <th>rectq</th>\n",
       "      <th>ar_turnover_ratio</th>\n",
       "    </tr>\n",
       "  </thead>\n",
       "  <tbody>\n",
       "    <tr>\n",
       "      <th>0</th>\n",
       "      <td>2013-06-30</td>\n",
       "      <td>028967</td>\n",
       "      <td>74727A104</td>\n",
       "      <td>25.248</td>\n",
       "      <td>1507.486</td>\n",
       "      <td>0.016748</td>\n",
       "    </tr>\n",
       "    <tr>\n",
       "      <th>1</th>\n",
       "      <td>2013-09-30</td>\n",
       "      <td>028967</td>\n",
       "      <td>74727A104</td>\n",
       "      <td>27.930</td>\n",
       "      <td>1515.876</td>\n",
       "      <td>0.018425</td>\n",
       "    </tr>\n",
       "    <tr>\n",
       "      <th>2</th>\n",
       "      <td>2013-12-31</td>\n",
       "      <td>028967</td>\n",
       "      <td>74727A104</td>\n",
       "      <td>26.592</td>\n",
       "      <td>1437.473</td>\n",
       "      <td>0.018499</td>\n",
       "    </tr>\n",
       "    <tr>\n",
       "      <th>3</th>\n",
       "      <td>2014-03-31</td>\n",
       "      <td>028967</td>\n",
       "      <td>74727A104</td>\n",
       "      <td>25.782</td>\n",
       "      <td>1469.634</td>\n",
       "      <td>0.017543</td>\n",
       "    </tr>\n",
       "    <tr>\n",
       "      <th>4</th>\n",
       "      <td>2014-06-30</td>\n",
       "      <td>028967</td>\n",
       "      <td>74727A104</td>\n",
       "      <td>26.538</td>\n",
       "      <td>1524.999</td>\n",
       "      <td>0.017402</td>\n",
       "    </tr>\n",
       "  </tbody>\n",
       "</table>\n",
       "</div>"
      ],
      "text/plain": [
       "     datadate   gvkey      cusip   saleq     rectq  ar_turnover_ratio\n",
       "0  2013-06-30  028967  74727A104  25.248  1507.486           0.016748\n",
       "1  2013-09-30  028967  74727A104  27.930  1515.876           0.018425\n",
       "2  2013-12-31  028967  74727A104  26.592  1437.473           0.018499\n",
       "3  2014-03-31  028967  74727A104  25.782  1469.634           0.017543\n",
       "4  2014-06-30  028967  74727A104  26.538  1524.999           0.017402"
      ]
     },
     "execution_count": 17,
     "metadata": {},
     "output_type": "execute_result"
    }
   ],
   "source": [
    "df.head()"
   ]
  }
 ],
 "metadata": {
  "kernelspec": {
   "display_name": "Python 3",
   "language": "python",
   "name": "python3"
  },
  "language_info": {
   "codemirror_mode": {
    "name": "ipython",
    "version": 3
   },
   "file_extension": ".py",
   "mimetype": "text/x-python",
   "name": "python",
   "nbconvert_exporter": "python",
   "pygments_lexer": "ipython3",
   "version": "3.12.2"
  }
 },
 "nbformat": 4,
 "nbformat_minor": 2
}
