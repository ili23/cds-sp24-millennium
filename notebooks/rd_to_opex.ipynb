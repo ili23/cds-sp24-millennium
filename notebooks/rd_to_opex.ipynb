{
 "cells": [
  {
   "cell_type": "code",
   "execution_count": 19,
   "metadata": {},
   "outputs": [],
   "source": [
    "import numpy as np\n",
    "import pandas as pd\n",
    "import scipy\n",
    "import seaborn as sns\n",
    "import matplotlib.pyplot as plt\n",
    "import psycopg2\n",
    "import get_data"
   ]
  },
  {
   "cell_type": "code",
   "execution_count": 20,
   "metadata": {},
   "outputs": [
    {
     "data": {
      "text/html": [
       "<div>\n",
       "<style scoped>\n",
       "    .dataframe tbody tr th:only-of-type {\n",
       "        vertical-align: middle;\n",
       "    }\n",
       "\n",
       "    .dataframe tbody tr th {\n",
       "        vertical-align: top;\n",
       "    }\n",
       "\n",
       "    .dataframe thead th {\n",
       "        text-align: right;\n",
       "    }\n",
       "</style>\n",
       "<table border=\"1\" class=\"dataframe\">\n",
       "  <thead>\n",
       "    <tr style=\"text-align: right;\">\n",
       "      <th></th>\n",
       "      <th>datadate</th>\n",
       "      <th>gvkey</th>\n",
       "      <th>tic</th>\n",
       "      <th>cusip</th>\n",
       "      <th>xrdq</th>\n",
       "      <th>xoprq</th>\n",
       "    </tr>\n",
       "  </thead>\n",
       "  <tbody>\n",
       "    <tr>\n",
       "      <th>0</th>\n",
       "      <td>2013-06-30</td>\n",
       "      <td>028967</td>\n",
       "      <td>QCRH</td>\n",
       "      <td>74727A104</td>\n",
       "      <td>NaN</td>\n",
       "      <td>16.725</td>\n",
       "    </tr>\n",
       "    <tr>\n",
       "      <th>1</th>\n",
       "      <td>2013-09-30</td>\n",
       "      <td>028967</td>\n",
       "      <td>QCRH</td>\n",
       "      <td>74727A104</td>\n",
       "      <td>NaN</td>\n",
       "      <td>17.770</td>\n",
       "    </tr>\n",
       "    <tr>\n",
       "      <th>2</th>\n",
       "      <td>2013-12-31</td>\n",
       "      <td>028967</td>\n",
       "      <td>QCRH</td>\n",
       "      <td>74727A104</td>\n",
       "      <td>NaN</td>\n",
       "      <td>17.848</td>\n",
       "    </tr>\n",
       "    <tr>\n",
       "      <th>3</th>\n",
       "      <td>2014-03-31</td>\n",
       "      <td>028967</td>\n",
       "      <td>QCRH</td>\n",
       "      <td>74727A104</td>\n",
       "      <td>NaN</td>\n",
       "      <td>17.192</td>\n",
       "    </tr>\n",
       "    <tr>\n",
       "      <th>4</th>\n",
       "      <td>2014-06-30</td>\n",
       "      <td>028967</td>\n",
       "      <td>QCRH</td>\n",
       "      <td>74727A104</td>\n",
       "      <td>NaN</td>\n",
       "      <td>16.887</td>\n",
       "    </tr>\n",
       "  </tbody>\n",
       "</table>\n",
       "</div>"
      ],
      "text/plain": [
       "     datadate   gvkey   tic      cusip  xrdq   xoprq\n",
       "0  2013-06-30  028967  QCRH  74727A104   NaN  16.725\n",
       "1  2013-09-30  028967  QCRH  74727A104   NaN  17.770\n",
       "2  2013-12-31  028967  QCRH  74727A104   NaN  17.848\n",
       "3  2014-03-31  028967  QCRH  74727A104   NaN  17.192\n",
       "4  2014-06-30  028967  QCRH  74727A104   NaN  16.887"
      ]
     },
     "execution_count": 20,
     "metadata": {},
     "output_type": "execute_result"
    }
   ],
   "source": [
    "df = pd.read_sql_query('SELECT datadate,gvkey,tic,cusip,xrdq,xoprq FROM quarterly',get_data.engine)\n",
    "\n",
    "#xrdq: Research and Development Expense\n",
    "#xoprq: Operating Expense- Total \n",
    "df.head()\n",
    "# Debt to equity ratio = dlttq / seqq"
   ]
  },
  {
   "cell_type": "code",
   "execution_count": 21,
   "metadata": {},
   "outputs": [],
   "source": [
    "df = df.dropna(axis = 0)"
   ]
  },
  {
   "cell_type": "code",
   "execution_count": 41,
   "metadata": {},
   "outputs": [],
   "source": [
    "df['rd_opex'] = (df['xrdq'])/df['xoprq']"
   ]
  },
  {
   "cell_type": "code",
   "execution_count": 51,
   "metadata": {},
   "outputs": [
    {
     "name": "stdout",
     "output_type": "stream",
     "text": [
      "6.545202806885049e-05 0.9994227994227994\n"
     ]
    }
   ],
   "source": [
    "#getting rid of outliers\n",
    "df = df[(df['rd_opex'] > 0) & (df['rd_opex'] < 1)]\n",
    "print(min(df['rd_opex']), max(df['rd_opex']))"
   ]
  },
  {
   "cell_type": "code",
   "execution_count": 53,
   "metadata": {},
   "outputs": [
    {
     "data": {
      "image/png": "[encoded data removed]",
      "text/plain": [
       "<Figure size 640x480 with 1 Axes>"
      ]
     },
     "metadata": {},
     "output_type": "display_data"
    }
   ],
   "source": [
    "plt.hist(df['rd_opex']);"
   ]
  }
 ],
 "metadata": {
  "kernelspec": {
   "display_name": "Python 3",
   "language": "python",
   "name": "python3"
  },
  "language_info": {
   "codemirror_mode": {
    "name": "ipython",
    "version": 3
   },
   "file_extension": ".py",
   "mimetype": "text/x-python",
   "name": "python",
   "nbconvert_exporter": "python",
   "pygments_lexer": "ipython3",
   "version": "3.11.2"
  },
  "orig_nbformat": 4
 },
 "nbformat": 4,
 "nbformat_minor": 2
}
